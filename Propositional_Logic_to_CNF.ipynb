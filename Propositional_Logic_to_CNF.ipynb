{
  "nbformat": 4,
  "nbformat_minor": 0,
  "metadata": {
    "colab": {
      "provenance": [],
      "include_colab_link": true
    },
    "kernelspec": {
      "name": "python3",
      "display_name": "Python 3"
    },
    "language_info": {
      "name": "python"
    }
  },
  "cells": [
    {
      "cell_type": "markdown",
      "metadata": {
        "id": "view-in-github",
        "colab_type": "text"
      },
      "source": [
        "<a href=\"https://colab.research.google.com/github/Vik-Gt-321/RL-AI/blob/main/Propositional_Logic_to_CNF.ipynb\" target=\"_parent\"><img src=\"https://colab.research.google.com/assets/colab-badge.svg\" alt=\"Open In Colab\"/></a>"
      ]
    },
    {
      "cell_type": "markdown",
      "source": [
        "**Notes**\n",
        "\n",
        "All functions are optimized to take in Propositions with a max of two operands i.e binary\n",
        "\n",
        "Print function can be optimized for more than binary cases, although not necessary"
      ],
      "metadata": {
        "id": "4pD6fBzSCXp5"
      }
    },
    {
      "cell_type": "markdown",
      "source": [
        "# Class Definitions and Testing "
      ],
      "metadata": {
        "id": "In-bhwW28wnY"
      }
    },
    {
      "cell_type": "code",
      "execution_count": null,
      "metadata": {
        "id": "Y060jnlT1KgK"
      },
      "outputs": [],
      "source": [
        "class Proposition:\n",
        "    def __init__(self, op, *operands):\n",
        "        self.op = op\n",
        "        self.operands = operands\n",
        "    \n",
        "    def __eq__(self, other):\n",
        "        if isinstance(other, Proposition):\n",
        "            return self.op == other.op and self.operands == other.operands\n",
        "        return False\n",
        "    \n",
        "    def __hash__(self):\n",
        "        return hash((self.op, self.operands))\n",
        "    \n",
        "    def __str__(self):\n",
        "        if self.is_variable():\n",
        "            # print(self.op, \"var\")\n",
        "            return self.op\n",
        "        elif self.is_unary():\n",
        "            # print(self.op)\n",
        "            # print(self.operands[0], \"unary\")\n",
        "            return f\"({self.op}{self.operands[0]})\"\n",
        "        else:\n",
        "            # print(self.op, \"prop\")\n",
        "            # for op in self.operands:\n",
        "            #   print(op)\n",
        "            \n",
        "            operands_str = \"\"\n",
        "\n",
        "            operands_str += (str(self.operands[0]))\n",
        "            operands_str += \" \"\n",
        "            operands_str += (str(self.op))\n",
        "            operands_str += \" \"\n",
        "            operands_str += (str(self.operands[1]))\n",
        "            # operands_str = \" \".join(str(operand) for operand in self.operands)\n",
        "            return f\"({operands_str})\"\n",
        "    \n",
        "    def is_variable(self):\n",
        "      return isinstance(self.op, str) and not self.operands\n",
        "    \n",
        "    def is_unary(self):\n",
        "        return self.op in {\"~\"} and len(self.operands) == 1\n",
        "    \n",
        "    def is_binary(self):\n",
        "        return self.op in {\"&\", \"|\", \"->\"} and len(self.operands) == 2\n",
        "    \n",
        "    def is_negation(self):\n",
        "        return self.op == \"~\" and self.operands[0].is_variable()\n",
        "    \n",
        "    def is_conjunction(self):\n",
        "        return self.op == \"&\" and all(op.is_proposition() for op in self.operands)\n",
        "    \n",
        "    def is_disjunction(self):\n",
        "        return self.op == \"|\" and all(op.is_proposition() for op in self.operands)\n",
        "    \n",
        "    def is_implication(self):\n",
        "        return self.op == \"->\" and all(op.is_proposition() for op in self.operands)\n",
        "    \n",
        "    def is_proposition(self):\n",
        "        return self.is_variable() or self.is_unary() or self.is_binary()\n",
        "\n",
        "    def print_proposition(self):\n",
        "        print(str(self))\n",
        "\n",
        "    def eliminate_implications(self):\n",
        "      if self.is_variable():\n",
        "          # print(f\"var elim of \" ,{self.op})\n",
        "\n",
        "          return self\n",
        "\n",
        "      elif self.is_unary():\n",
        "          # print(\"unary elimin\")\n",
        "\n",
        "          new_operand = self.operands[0].eliminate_implications()\n",
        "          return Proposition(self.op, new_operand)\n",
        "      else:\n",
        "          # print(\"binary elim\")\n",
        "          # left, right = [op.eliminate_implications() for op in self.operands]\n",
        "          # print(str(self.operands[0]))\n",
        "\n",
        "          left, right = self.operands[0], self.operands[1]\n",
        "          left = left.eliminate_implications()\n",
        "          right = right.eliminate_implications()\n",
        "          \n",
        "          # right.print_proposition()\n",
        "          if self.is_implication():\n",
        "              # print(\"is impl if\")\n",
        "              # print(left)\n",
        "              # print(isinstance(left, Proposition))\n",
        "              # print(right, \"right\")\n",
        "              new_proposition = Proposition(\"|\", Proposition(\"~\", left), right)\n",
        "              return new_proposition   \n",
        "          \n",
        "          # right.print_proposition()\n",
        "          # Proposition(self.op, left, right).print_proposition()\n",
        "          return Proposition(self.op, left, right)\n",
        "\n",
        "    def negate(self):\n",
        "      '''\n",
        "      returns the negated Propostion object\n",
        "      '''\n",
        "\n",
        "      # print(\"inside negate function for \", self.print_proposition())\n",
        "      if self.op != \"~\":\n",
        "        # print(\"self op is not ~\")\n",
        "        if self.is_variable():\n",
        "          return Proposition(\"~\", self)\n",
        "        if self.is_unary():\n",
        "          # print(\"inside unary\")\n",
        "          other_than_operator = self.operands[0]\n",
        "          if other_than_operator.is_variable():\n",
        "            return other_than_operator.negate()\n",
        "\n",
        "          if other_than_operator.is_unary():\n",
        "            if other_than_operator.op == \"~\":\n",
        "              return other_than_operator\n",
        "            else:\n",
        "              return other_than_operator.operands[0].negate()\n",
        "\n",
        "        if self.is_binary():\n",
        "          self = self.eliminate_implications()\n",
        "          left, right = self.operands\n",
        "          # print(\"inside move neg inwards\", left, right)\n",
        "          if self.is_conjunction():\n",
        "              # print(\"inside conjucntion\")\n",
        "              return Proposition(\"|\", left.negate(), right.negate())\n",
        "          if self.is_disjunction():\n",
        "              # print(\"inside dis\")\n",
        "              return Proposition(\"&\", left.negate(), right.negate())\n",
        "      else:\n",
        "        return self.operands[0]\n",
        "\n",
        "    def move_negation_inwards(self):\n",
        "        '''\n",
        "        moves the negative inwards and returns the Negative Normal Form\n",
        "        '''\n",
        "        if self.is_variable():\n",
        "            # print(\"inside var\")\n",
        "            return self\n",
        "\n",
        "        if self.is_unary():\n",
        "            # print(\"inside unary\", self.print_proposition())\n",
        "            \n",
        "            other_than_neg = self.operands[0]\n",
        "            # print(\"other than neg\", other_than_neg)\n",
        "            if self.op == \"~\":\n",
        "              return other_than_neg.negate()\n",
        "            \n",
        "            return other_than_neg.move_negation_inwards()\n",
        "      \n",
        "\n",
        "        if self.is_binary():\n",
        "            # print(\"inside binary\")\n",
        "            self = self.eliminate_implications()\n",
        "            self.print_proposition()\n",
        "            left, right = self.operands\n",
        "            # print(\"inside move neg inwards is binary\", left, right)\n",
        "            if self.is_conjunction():\n",
        "                # print(\"inside conjucntion\")\n",
        "                return Proposition(\"&\", left.move_negation_inwards(), right.move_negation_inwards())\n",
        "            if self.is_disjunction():\n",
        "                # print(\"inside dis\")\n",
        "                return Proposition(\"|\", left.move_negation_inwards(), right.move_negation_inwards())\n",
        "\n",
        "        return self"
      ]
    },
    {
      "cell_type": "markdown",
      "source": [
        "# Helper functions (Some defined outside class, others inside)\n",
        "\n",
        "\n",
        "*   `distribute_disjunctions(proposition)`\n",
        "*   `move_negation_inwards(self)`\n",
        "*   `negate(self)`\n",
        "*   `eliminate_implications(self)`\n",
        "\n",
        "\n",
        "\n",
        "\n"
      ],
      "metadata": {
        "id": "h56XcxGH-F0m"
      }
    },
    {
      "cell_type": "markdown",
      "source": [
        "### Move negation inwards testing"
      ],
      "metadata": {
        "id": "GExeRLOJ_QMq"
      }
    },
    {
      "cell_type": "code",
      "source": [
        "p = Proposition(\"~\", Proposition(\"&\", Proposition(\"p\"), Proposition(\"~\", Proposition(\"q\"))))\n",
        "q = Proposition(\"~\", Proposition(\"|\", Proposition(\"~\", Proposition(\"&\", Proposition(\"p\"), Proposition(\"q\"))),\n",
        "                                 Proposition(\"r\")))\n",
        "r = Proposition(\"&\", Proposition(\"~\", Proposition(\"|\", Proposition(\"p\"), Proposition(\"~\", Proposition(\"q\")))), Proposition(\"r\"))\n",
        "\n",
        "q.move_negation_inwards().print_proposition()"
      ],
      "metadata": {
        "colab": {
          "base_uri": "https://localhost:8080/"
        },
        "id": "Y2eLLRiNDtdt",
        "outputId": "db2551c0-7734-4621-aca3-17d741fe5e34"
      },
      "execution_count": null,
      "outputs": [
        {
          "output_type": "stream",
          "name": "stdout",
          "text": [
            "((p & q) & (~r))\n"
          ]
        }
      ]
    },
    {
      "cell_type": "markdown",
      "source": [
        "### Eliminate implications testing "
      ],
      "metadata": {
        "id": "bv4NqlxC-y8N"
      }
    },
    {
      "cell_type": "code",
      "source": [
        "p1 = Proposition(\"->\", Proposition(\"p\"), Proposition(\"q\"))\n",
        "p2 = Proposition(\"&\", Proposition(\"r\"), p1)\n",
        "\n",
        "# Before elimination\n",
        "print(p2)  \n",
        "\n",
        "# After elimination\n",
        "p2 = p2.eliminate_implications()\n",
        "print(p2)  \n"
      ],
      "metadata": {
        "colab": {
          "base_uri": "https://localhost:8080/"
        },
        "id": "3rm7DV59oN5E",
        "outputId": "af4593a2-a7c9-48ab-b86f-c39c0d87368f"
      },
      "execution_count": null,
      "outputs": [
        {
          "output_type": "stream",
          "name": "stdout",
          "text": [
            "(r & (p -> q))\n",
            "(r & ((~p) | q))\n"
          ]
        }
      ]
    },
    {
      "cell_type": "code",
      "source": [
        "p = Proposition(\"->\", Proposition(\"p\"), Proposition(\"q\"))\n",
        "p = p.eliminate_implications() \n",
        "p.print_proposition()"
      ],
      "metadata": {
        "colab": {
          "base_uri": "https://localhost:8080/"
        },
        "id": "axPrtJ2Zdipa",
        "outputId": "81c9a4cf-2435-473c-852c-a88b9c936d73"
      },
      "execution_count": null,
      "outputs": [
        {
          "output_type": "stream",
          "name": "stdout",
          "text": [
            "((~p) | q)\n"
          ]
        }
      ]
    },
    {
      "cell_type": "markdown",
      "source": [
        "### Negate testing "
      ],
      "metadata": {
        "id": "sY7aMOcx_JxT"
      }
    },
    {
      "cell_type": "code",
      "source": [
        "q = Proposition(\"~\", Proposition(\"q\"))\n",
        "r = Proposition(\"r\")\n",
        "p1 = Proposition(\"->\", Proposition(\"p\"), Proposition(\"q\"))\n",
        "p =  Proposition(\"&\", Proposition(\"P\"), Proposition(\"|\", Proposition(\"Q\"), Proposition(\"~\", Proposition(\"R\"))))\n",
        "\n",
        "conjunction = Proposition(\"|\", q, r)\n",
        "con = p.negate()\n",
        "con.print_proposition()"
      ],
      "metadata": {
        "colab": {
          "base_uri": "https://localhost:8080/"
        },
        "id": "EF1bbCKRGKJx",
        "outputId": "981e195d-d12a-4372-bc28-af1e6ef81460"
      },
      "execution_count": null,
      "outputs": [
        {
          "output_type": "stream",
          "name": "stdout",
          "text": [
            "((~P) | ((~Q) & R))\n"
          ]
        }
      ]
    },
    {
      "cell_type": "code",
      "source": [
        "def distribute_disjunctions(proposition):\n",
        "  '''\n",
        "  distributes ors over ands\n",
        "  '''\n",
        "  if proposition.is_disjunction():\n",
        "      left, right = proposition.operands\n",
        "      if left.is_conjunction():\n",
        "          left1, left2 = left.operands\n",
        "          new_proposition = Proposition(\"&\", Proposition(\"|\", left1, right), Proposition(\"|\", left2, right))\n",
        "          return distribute_disjunctions(new_proposition)\n",
        "      elif right.is_conjunction():\n",
        "          right1, right2 = right.operands\n",
        "          new_proposition = Proposition(\"&\", Proposition(\"|\", left, right1), Proposition(\"|\", left, right2))\n",
        "          return distribute_disjunctions(new_proposition)\n",
        "      return proposition\n",
        "  elif proposition.is_conjunction():\n",
        "      new_operands = [distribute_disjunctions(operand) for operand in proposition.operands]\n",
        "      return Proposition(\"&\", *new_operands)\n",
        "  return proposition"
      ],
      "metadata": {
        "id": "lxBfUlHV-Dpn"
      },
      "execution_count": null,
      "outputs": []
    },
    {
      "cell_type": "code",
      "source": [
        "p = Proposition(\"|\", Proposition(\"&\", Proposition(\"p\"), Proposition(\"q\")), Proposition(\"&\", Proposition(\"r\"), Proposition(\"s\")))\n",
        "distribute_disjunctions(p).print_proposition()"
      ],
      "metadata": {
        "colab": {
          "base_uri": "https://localhost:8080/"
        },
        "id": "iKAS5YUhYLFG",
        "outputId": "4b4a68d1-c62b-40ab-e2a8-5885754e1dd7"
      },
      "execution_count": null,
      "outputs": [
        {
          "output_type": "stream",
          "name": "stdout",
          "text": [
            "(((p | r) & (p | s)) & ((q | r) & (q | s)))\n"
          ]
        }
      ]
    },
    {
      "cell_type": "markdown",
      "source": [
        "# Proposition To CNF Algorithm"
      ],
      "metadata": {
        "id": "YPYioa2y--tt"
      }
    },
    {
      "cell_type": "code",
      "source": [
        "def to_cnf(proposition):\n",
        "  '''\n",
        "  pipeline for converting Propostion object to its Conjunctive normal form\n",
        "  '''\n",
        "  proposition = proposition.eliminate_implications()\n",
        "  proposition = proposition.move_negation_inwards()\n",
        "  proposition = distribute_disjunctions(proposition)\n",
        "  return proposition"
      ],
      "metadata": {
        "id": "naReVxqlSiqp"
      },
      "execution_count": null,
      "outputs": []
    },
    {
      "cell_type": "code",
      "source": [
        "p = Proposition(\"~\", Proposition(\"&\", Proposition(\"P\"), Proposition(\"Q\")))\n",
        "to_cnf(p).print_proposition()"
      ],
      "metadata": {
        "colab": {
          "base_uri": "https://localhost:8080/"
        },
        "id": "1xl4BWDCv_jR",
        "outputId": "811b6ff6-8db3-44f3-f5dd-cf8135edaa91"
      },
      "execution_count": null,
      "outputs": [
        {
          "output_type": "stream",
          "name": "stdout",
          "text": [
            "((~P) | (~Q))\n"
          ]
        }
      ]
    },
    {
      "cell_type": "code",
      "source": [
        "p = Proposition(\"->\", Proposition(\"a\"), Proposition(\"&\", Proposition(\"b\"), Proposition(\"c\")))\n",
        "to_cnf(p).print_proposition()"
      ],
      "metadata": {
        "colab": {
          "base_uri": "https://localhost:8080/"
        },
        "id": "gyPqasoDyBWE",
        "outputId": "4cf1b4c2-20ec-4535-c926-81d579ef1596"
      },
      "execution_count": null,
      "outputs": [
        {
          "output_type": "stream",
          "name": "stdout",
          "text": [
            "((~a) | (b & c))\n",
            "(b & c)\n",
            "(((~a) | b) & ((~a) | c))\n"
          ]
        }
      ]
    },
    {
      "cell_type": "code",
      "source": [
        "p = Proposition(\"&\",\n",
        "    Proposition(\"->\", Proposition(\"P\"), Proposition(\"Q\")),\n",
        "    Proposition(\"~\", Proposition(\"|\", Proposition(\"P\"), \n",
        "                                 Proposition(\"&\", Proposition(\"~\", Proposition(\"Q\")), Proposition(\"R\"))))\n",
        "    # Proposition(\"|\", Proposition(\"S\"), Proposition(\"~\", Proposition(\"P\")))\n",
        ")\n",
        "\n",
        "to_cnf(p).print_proposition()"
      ],
      "metadata": {
        "colab": {
          "base_uri": "https://localhost:8080/"
        },
        "id": "WWi2R1VcwwGF",
        "outputId": "1c8c4140-38aa-417b-8313-d41f64a97d29"
      },
      "execution_count": null,
      "outputs": [
        {
          "output_type": "stream",
          "name": "stdout",
          "text": [
            "(((~P) | Q) & (~(P | ((~Q) & R))))\n",
            "((~P) | Q)\n",
            "(((~P) | Q) & ((~P) & (Q | (~R))))\n"
          ]
        }
      ]
    },
    {
      "cell_type": "markdown",
      "source": [
        "##### Problem 1:If John is a bachelor, then John is unmarried.\n",
        "John is a bachelor.\n",
        "Therefore, John is unmarried.\n"
      ],
      "metadata": {
        "id": "uMlSff_h4jMy"
      }
    },
    {
      "cell_type": "code",
      "source": [
        "p1a = Proposition(\"&\",Proposition(\"->\",Proposition(\"B\"),Proposition(\"U\")),Proposition(\"B\"))\n",
        "p1 = Proposition(\"&\", p1a , Proposition(\"U\"))\n",
        "to_cnf(p1).print_proposition()"
      ],
      "metadata": {
        "colab": {
          "base_uri": "https://localhost:8080/"
        },
        "id": "_Izr5x_U4iiF",
        "outputId": "fbff1c31-c1c0-4828-e471-46f707088043"
      },
      "execution_count": null,
      "outputs": [
        {
          "output_type": "stream",
          "name": "stdout",
          "text": [
            "((((~B) | U) & B) & U)\n",
            "(((~B) | U) & B)\n",
            "((~B) | U)\n",
            "((((~B) | U) & B) & U)\n"
          ]
        }
      ]
    },
    {
      "cell_type": "markdown",
      "source": [
        "#### Problem 2:"
      ],
      "metadata": {
        "id": "kkyqupxJ54st"
      }
    },
    {
      "cell_type": "code",
      "source": [
        "#(P → Q) ∧ (R → S) ∧ (P ∨ R) ∧ ¬(Q ∧ S)\n",
        "\n",
        "p2a = Proposition(\"->\",Proposition(\"P\"),Proposition(\"Q\"))\n",
        "p2b = Proposition(\"->\",Proposition(\"R\"),Proposition(\"S\"))\n",
        "p2c = Proposition(\"|\",Proposition(\"P\"),Proposition(\"R\"))\n",
        "p2d = Proposition(\"~\", Proposition(\"&\", Proposition(\"Q\"), Proposition(\"S\")))\n",
        "\n",
        "p21 = Proposition(\"&\",p2a,p2b)\n",
        "p22 = Proposition(\"&\",p2c,p2d)\n",
        "\n",
        "p2 = Proposition(\"&\",p21,p22)\n",
        "\n",
        "to_cnf(p2).print_proposition()"
      ],
      "metadata": {
        "id": "-DdrPEWv7eNk",
        "colab": {
          "base_uri": "https://localhost:8080/"
        },
        "outputId": "8516185e-81fb-45d5-bf40-f660d2bd825d"
      },
      "execution_count": null,
      "outputs": [
        {
          "output_type": "stream",
          "name": "stdout",
          "text": [
            "((((~P) | Q) & ((~R) | S)) & ((P | R) & (~(Q & S))))\n",
            "(((~P) | Q) & ((~R) | S))\n",
            "((~P) | Q)\n",
            "((~R) | S)\n",
            "((P | R) & (~(Q & S)))\n",
            "(P | R)\n",
            "((((~P) | Q) & ((~R) | S)) & ((P | R) & ((~Q) | (~S))))\n"
          ]
        }
      ]
    },
    {
      "cell_type": "code",
      "source": [
        "# p3a = Proposition(\"&\", Proposition(\"P\"),Proposition(\"Q\"))\n",
        "# p3b = Proposition(\"|\", Proposition(\"R\"), Proposition(\"S\"))\n",
        "\n",
        "# p3 = Proposition(\"->\", p3a, p3b)\n",
        "\n",
        "# to_cnf(p3).print_proposition()"
      ],
      "metadata": {
        "id": "6dRNsWhcsQQ0"
      },
      "execution_count": null,
      "outputs": []
    }
  ]
}